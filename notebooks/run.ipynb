{
 "cells": [
  {
   "cell_type": "markdown",
   "id": "0a98033d",
   "metadata": {},
   "source": [
    "# Eye-Tracking Data Analysis for PLR Tests\n",
    "This notebook implements analysis of Pupillary Light Reflex (PLR) tests using eye-tracking data.\n",
    "The analysis includes data cleaning, pupil size extraction, signal quality assessment, and biomarker calculation."
   ]
  },
  {
   "cell_type": "code",
   "execution_count": null,
   "id": "90600e3f",
   "metadata": {},
   "outputs": [],
   "source": [
    "# Import required libraries\n",
    "\n",
    "# pandas - For data manipulation and analysis of tabular data (landmarks and protocol files)\n",
    "import pandas as pd\n",
    "\n",
    "# numpy - For numerical operations and array manipulation of pupil measurements\n",
    "import numpy as np\n",
    "\n",
    "# matplotlib - For creating static visualizations of pupil response data\n",
    "import matplotlib.pyplot as plt\n",
    "\n",
    "# pathlib - For cross-platform file path handling\n",
    "from pathlib import Path\n",
    "\n",
    "# logging - For tracking program execution and debugging information\n",
    "import logging\n",
    "\n",
    "# scipy.signal - For signal processing operations like Savitzky-Golay filtering\n",
    "from scipy import signal\n",
    "\n",
    "# seaborn - For enhanced statistical data visualization built on matplotlib\n",
    "import seaborn as sns\n",
    "\n",
    "# shapely.geometry - For polygon area calculation\n",
    "from shapely.geometry import Polygon\n",
    "\n",
    "# Configure logging\n",
    "logging.basicConfig(\n",
    "    level=logging.INFO,\n",
    "    format='%(asctime)s - %(levelname)s - %(message)s'\n",
    ")\n",
    "logger = logging.getLogger(__name__)"
   ]
  },
  {
   "cell_type": "markdown",
   "id": "17bdee5a",
   "metadata": {},
   "source": [
    "## Data Validating Functions\n",
    "Functions to validate landmarks and protocol files"
   ]
  },
  {
   "cell_type": "code",
   "execution_count": null,
   "id": "0adbf49e",
   "metadata": {},
   "outputs": [],
   "source": [
    "def load_landmarks_file(file_path):\n",
    "    \"\"\"\n",
    "    Load and validate landmarks data file\n",
    "    \n",
    "    Args:\n",
    "        file_path (str): Path to landmarks CSV file\n",
    "        \n",
    "    Returns:\n",
    "        pd.DataFrame: Processed landmarks data\n",
    "    \"\"\"\n",
    "    try:\n",
    "        df = pd.read_csv(file_path)\n",
    "        \n",
    "        # Required columns for timestamp and status\n",
    "        base_columns = ['timestamp', 'id', 'retcode']\n",
    "        \n",
    "        # Generate expected landmark column names for both eyes\n",
    "        landmark_columns = []\n",
    "        for eye in ['left', 'right']:\n",
    "            for i in range(1, 28):  # 27 landmarks per eye\n",
    "                landmark_columns.extend([\n",
    "                    f'{eye}_lm_{i}_x',\n",
    "                    f'{eye}_lm_{i}_y'\n",
    "                ])\n",
    "        \n",
    "        required_columns = base_columns + landmark_columns\n",
    "        \n",
    "        # Verify all required columns exist\n",
    "        missing_columns = [col for col in required_columns if col not in df.columns]\n",
    "        if missing_columns:\n",
    "            raise ValueError(f\"Missing required columns: {', '.join(missing_columns)}\")\n",
    "            \n",
    "        logger.info(f\"Successfully validated landmarks file {file_path.name} with {len(df)} rows\")\n",
    "        return df\n",
    "    except Exception as e:\n",
    "        logger.error(f\"Error loading landmarks file: {e}\")\n",
    "        raise"
   ]
  },
  {
   "cell_type": "code",
   "execution_count": null,
   "id": "a43eecd8",
   "metadata": {},
   "outputs": [],
   "source": [
    "def load_protocol_file(file_path):\n",
    "    \"\"\"\n",
    "    Load and validate protocol data file\n",
    "    \n",
    "    Args:\n",
    "        file_path (str): Path to protocol CSV file\n",
    "        \n",
    "    Returns:\n",
    "        pd.DataFrame: Protocol timing data\n",
    "    \"\"\"\n",
    "    try:\n",
    "        df = pd.read_csv(file_path)\n",
    "        required_columns = ['time', 'event']\n",
    "        if not all(col in df.columns for col in required_columns):\n",
    "            raise ValueError(\"Missing required columns in protocol file\")\n",
    "        return df\n",
    "    except Exception as e:\n",
    "        logger.error(f\"Error loading protocol file: {e}\")\n",
    "        raise"
   ]
  },
  {
   "cell_type": "code",
   "execution_count": null,
   "id": "865add81",
   "metadata": {},
   "outputs": [],
   "source": [
    "data_path = Path().cwd().parent / \"data\"\n",
    "for subfolder in data_path.iterdir():\n",
    "    if subfolder.is_dir():\n",
    "        landmarks_file = subfolder / f'{subfolder.name}_plr_landmarks.csv'\n",
    "        protocol_file = subfolder / f'{subfolder.name}_plr_protocol.csv'\n",
    "        \n",
    "        # Load landmarks and protocol files\n",
    "        landmarks_df = load_landmarks_file(landmarks_file)\n",
    "        protocol_df = load_protocol_file(protocol_file)"
   ]
  },
  {
   "cell_type": "markdown",
   "id": "e36088b1",
   "metadata": {},
   "source": [
    "## Data Cleaning\n",
    "Functions to clean and preprocess the landmarks data"
   ]
  },
  {
   "cell_type": "code",
   "execution_count": null,
   "id": "c683cd69",
   "metadata": {},
   "outputs": [],
   "source": [
    "def clean_landmarks_data(df):\n",
    "    \"\"\"\n",
    "    Clean landmarks data by removing invalid frames\n",
    "    \n",
    "    Args:\n",
    "        df (pd.DataFrame): Raw landmarks data\n",
    "        \n",
    "    Returns:\n",
    "        pd.DataFrame: Cleaned landmarks data\n",
    "    \"\"\"\n",
    "    # Remove frames with invalid retCode\n",
    "    cleaned_df = df[df['retcode'] == 'OK'].copy()\n",
    "    \n",
    "    # Reset index after filtering\n",
    "    cleaned_df.reset_index(drop=True, inplace=True)\n",
    "    \n",
    "    logger.info(f\"Removed {len(df) - len(cleaned_df)} frames with invalid retCode\")\n",
    "    return cleaned_df"
   ]
  },
  {
   "cell_type": "code",
   "execution_count": null,
   "id": "ca330c2a",
   "metadata": {},
   "outputs": [],
   "source": [
    "# Find the landmarks.csv file\n",
    "landmarks_file = list(data_path.glob('**/*landmarks.csv'))[0]\n",
    "\n",
    "# Load landmarks data into DataFrame\n",
    "landmarks_df = pd.read_csv(landmarks_file)\n",
    "\n",
    "# Display first few rows\n",
    "landmarks_df.head()"
   ]
  }
 ],
 "metadata": {
  "kernelspec": {
   "display_name": ".venv",
   "language": "python",
   "name": "python3"
  },
  "language_info": {
   "name": "python",
   "version": "3.10.12"
  }
 },
 "nbformat": 4,
 "nbformat_minor": 5
}
